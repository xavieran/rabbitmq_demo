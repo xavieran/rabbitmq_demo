{
 "cells": [
  {
   "cell_type": "code",
   "execution_count": null,
   "metadata": {},
   "outputs": [],
   "source": [
    "import send\n",
    "\n",
    "def launch_job(n):\n",
    "    client = send.RPCClient('LeChateauDL')\n",
    "    print client.call(n)\n",
    "    \n",
    "import multiprocessing\n",
    "\n",
    "manager = multiprocessing.Manager()\n",
    "pool = multiprocessing.Pool(processes=4)\n",
    "\n",
    "jobs = range(20)\n",
    "\n",
    "pool.map(launch_job, jobs)\n",
    "pool.close()\n",
    "pool.join()"
   ]
  },
  {
   "cell_type": "code",
   "execution_count": null,
   "metadata": {
    "collapsed": true
   },
   "outputs": [],
   "source": []
  }
 ],
 "metadata": {
  "kernelspec": {
   "display_name": "Python 2",
   "language": "python",
   "name": "python2"
  },
  "language_info": {
   "codemirror_mode": {
    "name": "ipython",
    "version": 2
   },
   "file_extension": ".py",
   "mimetype": "text/x-python",
   "name": "python",
   "nbconvert_exporter": "python",
   "pygments_lexer": "ipython2",
   "version": "2.7.5"
  }
 },
 "nbformat": 4,
 "nbformat_minor": 2
}
